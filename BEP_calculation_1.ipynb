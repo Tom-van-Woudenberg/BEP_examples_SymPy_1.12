{
 "cells": [
  {
   "cell_type": "markdown",
   "id": "035075e9",
   "metadata": {},
   "source": [
    "# Calculation 1"
   ]
  },
  {
   "cell_type": "code",
   "execution_count": 1,
   "id": "66d409e5-a912-4751-be55-b4dd2197a313",
   "metadata": {},
   "outputs": [],
   "source": [
    "import sympy as sm"
   ]
  },
  {
   "cell_type": "code",
   "execution_count": 2,
   "id": "5eabf903-07d0-4107-af67-c8e7f60fe59a",
   "metadata": {},
   "outputs": [],
   "source": [
    "a = sm.symbols('a', real=True)\n",
    "x = sm.symbols('x', real=True)\n",
    "EI = sm.symbols('EI', real=True)\n",
    "R_0, M_0, R_10 = sm.symbols('R_0, M_0, R_10', real=True)\n",
    "C1, C2, C3, C4 = sm.symbols('C1, C2, C3, C4')\n",
    "q = R_0 * sm.SingularityFunction(x, 0, -1) + M_0 * sm.SingularityFunction(x, 0, -2) + R_10 * sm.SingularityFunction(x, 10, -1) - 1 * sm.SingularityFunction(x, a, -1)\n",
    "V = -sm.integrate(q, x) + C1\n",
    "M = sm.integrate(V, x) + C2\n",
    "kappa = M / EI\n",
    "phi = sm.integrate(kappa, x) + C3\n",
    "w = sm.integrate(phi, x) + C4\n",
    "eq1 = sm.Eq(V.subs(x, 0-1), 0) #define 0 shear force before the beam, this is done at x = -1. This leads to margins in the final result. \n",
    "eq2 = sm.Eq(M.subs(x, 0-1), 0) #define 0 bending moment before the beam, this is done at x = -1. This leads to margins in the final result.\n",
    "eq3 = sm.Eq(w.subs(x, 0), 0)\n",
    "eq4 = sm.Eq(phi.subs(x, 0), 0)\n",
    "eq5 = sm.Eq(w.subs(x, 10), 0)\n",
    "eq6 = sm.Eq(M.subs(x, 10+1), 0) #define 0 shear force after the beam, this is done at x = 11. This leads to margins in the final result.\n",
    "eq7 = sm.Eq(V.subs(x, 10+1), 0) #define 0 bending moment after the beam, this is done at x = 11. This leads to margins in the final result.\n",
    "sol = sm.solve([eq1, eq2, eq3, eq4, eq5, eq6, eq7], [C1, C2, C3, C4, R_0, M_0, R_10])"
   ]
  },
  {
   "cell_type": "code",
   "execution_count": 3,
   "id": "66dc3d63-de10-4965-addd-948758301483",
   "metadata": {},
   "outputs": [
    {
     "data": {
      "text/latex": [
       "$\\displaystyle - {\\left\\langle - a - 1 \\right\\rangle}^{0} + \\frac{3 {\\left\\langle - a \\right\\rangle}^{2}}{200} + \\frac{{\\left\\langle - a \\right\\rangle}^{3}}{2000} - \\frac{{\\left\\langle 10 - a \\right\\rangle}^{3}}{2000} - \\frac{3 {\\left\\langle 11 - a \\right\\rangle}^{0}}{20} + \\frac{3 {\\left\\langle 11 - a \\right\\rangle}^{1}}{20}$"
      ],
      "text/plain": [
       "-SingularityFunction(-1, a, 0) + 3*SingularityFunction(0, a, 2)/200 + SingularityFunction(0, a, 3)/2000 - SingularityFunction(10, a, 3)/2000 - 3*SingularityFunction(11, a, 0)/20 + 3*SingularityFunction(11, a, 1)/20"
      ]
     },
     "execution_count": 3,
     "metadata": {},
     "output_type": "execute_result"
    }
   ],
   "source": [
    "sol[R_0]"
   ]
  },
  {
   "cell_type": "code",
   "execution_count": 4,
   "id": "e0aea20d-2217-4042-9c66-4a7312bd9d78",
   "metadata": {},
   "outputs": [
    {
     "data": {
      "text/latex": [
       "$\\displaystyle - {\\left\\langle - a - 1 \\right\\rangle}^{0} - {\\left\\langle - a - 1 \\right\\rangle}^{1} - \\frac{3 {\\left\\langle - a \\right\\rangle}^{2}}{20} - \\frac{{\\left\\langle - a \\right\\rangle}^{3}}{200} + \\frac{{\\left\\langle 10 - a \\right\\rangle}^{3}}{200} + \\frac{{\\left\\langle 11 - a \\right\\rangle}^{0}}{2} - \\frac{{\\left\\langle 11 - a \\right\\rangle}^{1}}{2}$"
      ],
      "text/plain": [
       "-SingularityFunction(-1, a, 0) - SingularityFunction(-1, a, 1) - 3*SingularityFunction(0, a, 2)/20 - SingularityFunction(0, a, 3)/200 + SingularityFunction(10, a, 3)/200 + SingularityFunction(11, a, 0)/2 - SingularityFunction(11, a, 1)/2"
      ]
     },
     "execution_count": 4,
     "metadata": {},
     "output_type": "execute_result"
    }
   ],
   "source": [
    "sol[M_0]"
   ]
  },
  {
   "cell_type": "code",
   "execution_count": 5,
   "id": "ed98144b-8b5f-4f5a-8cdf-97047b4cc25d",
   "metadata": {},
   "outputs": [
    {
     "data": {
      "text/latex": [
       "$\\displaystyle - \\frac{3 {\\left\\langle - a \\right\\rangle}^{2}}{200} - \\frac{{\\left\\langle - a \\right\\rangle}^{3}}{2000} + \\frac{{\\left\\langle 10 - a \\right\\rangle}^{3}}{2000} + \\frac{23 {\\left\\langle 11 - a \\right\\rangle}^{0}}{20} - \\frac{3 {\\left\\langle 11 - a \\right\\rangle}^{1}}{20}$"
      ],
      "text/plain": [
       "-3*SingularityFunction(0, a, 2)/200 - SingularityFunction(0, a, 3)/2000 + SingularityFunction(10, a, 3)/2000 + 23*SingularityFunction(11, a, 0)/20 - 3*SingularityFunction(11, a, 1)/20"
      ]
     },
     "execution_count": 5,
     "metadata": {},
     "output_type": "execute_result"
    }
   ],
   "source": [
    "sol[R_10]"
   ]
  }
 ],
 "metadata": {
  "kernelspec": {
   "display_name": "Python 3",
   "language": "python",
   "name": "python3"
  },
  "language_info": {
   "codemirror_mode": {
    "name": "ipython",
    "version": 3
   },
   "file_extension": ".py",
   "mimetype": "text/x-python",
   "name": "python",
   "nbconvert_exporter": "python",
   "pygments_lexer": "ipython3",
   "version": "3.8.18"
  }
 },
 "nbformat": 4,
 "nbformat_minor": 5
}
